{
  "nbformat": 4,
  "nbformat_minor": 0,
  "metadata": {
    "colab": {
      "provenance": [],
      "authorship_tag": "ABX9TyNL+DQGCrKzeEWvwEpoh4+a",
      "include_colab_link": true
    },
    "kernelspec": {
      "name": "python3",
      "display_name": "Python 3"
    },
    "language_info": {
      "name": "python"
    }
  },
  "cells": [
    {
      "cell_type": "markdown",
      "metadata": {
        "id": "view-in-github",
        "colab_type": "text"
      },
      "source": [
        "<a href=\"https://colab.research.google.com/github/JasmineVan/LinearRegression/blob/main/Student_LinearRegression.ipynb\" target=\"_parent\"><img src=\"https://colab.research.google.com/assets/colab-badge.svg\" alt=\"Open In Colab\"/></a>"
      ]
    },
    {
      "cell_type": "code",
      "source": [
        "import numpy as np\n",
        "import matplotlib.pyplot as plt"
      ],
      "metadata": {
        "id": "nCjz4endR2Wk"
      },
      "execution_count": null,
      "outputs": []
    },
    {
      "cell_type": "code",
      "execution_count": null,
      "metadata": {
        "colab": {
          "base_uri": "https://localhost:8080/",
          "height": 279
        },
        "id": "t6xDBvdeRfDl",
        "outputId": "acabf262-ebde-451c-bccf-8f1e7e663644"
      },
      "outputs": [
        {
          "output_type": "display_data",
          "data": {
            "text/plain": [
              "<Figure size 432x288 with 1 Axes>"
            ],
            "image/png": "[encoded data removed]"
          },
          "metadata": {
            "needs_background": "light"
          }
        }
      ],
      "source": [
        "x=[1,2,3,4,5,6,7]\n",
        "y=[2,4.1,6.3,10.2,10.5,12.1,14.1]\n",
        "w = [1,1]\n",
        "plt.plot(x,y,'ro')\n",
        "plt.xlabel('X')\n",
        "plt.ylabel('Y')\n",
        "x0 = np.linspace(start=1, stop=10, num=50)\n",
        "y0 = w[0]+w[1]*x0\n",
        "#print(y0)\n",
        "plt.plot(x0,y0)\n",
        "plt.show()"
      ]
    },
    {
      "cell_type": "code",
      "source": [
        "import numpy as np\n",
        "from sklearn.linear_model import LinearRegression\n",
        "x = np.array(x).reshape(-1, 1)\n",
        "model = LinearRegression()\n",
        "reg = model.fit(x, y)\n",
        "reg.score(x, y)\n",
        "print('intercept:', model.intercept_)\n",
        "print('slope:', model.coef_)"
      ],
      "metadata": {
        "colab": {
          "base_uri": "https://localhost:8080/"
        },
        "id": "P0_18AwUSL46",
        "outputId": "b93f118c-2277-4410-de1f-c770bc936599"
      },
      "execution_count": null,
      "outputs": [
        {
          "output_type": "stream",
          "name": "stdout",
          "text": [
            "intercept: 0.40000000000000213\n",
            "slope: [2.01785714]\n"
          ]
        }
      ]
    },
    {
      "cell_type": "code",
      "source": [
        "y_pred = model.predict(x)\n",
        "print('predicted response:', y_pred, sep='\\n')"
      ],
      "metadata": {
        "colab": {
          "base_uri": "https://localhost:8080/"
        },
        "id": "gryDAzRyTokr",
        "outputId": "25800dfe-8b05-477a-edc0-a13a0be9b71b"
      },
      "execution_count": null,
      "outputs": [
        {
          "output_type": "stream",
          "name": "stdout",
          "text": [
            "predicted response:\n",
            "[ 2.41785714  4.43571429  6.45357143  8.47142857 10.48928571 12.50714286\n",
            " 14.525     ]\n"
          ]
        }
      ]
    },
    {
      "cell_type": "code",
      "source": [
        "x=[1,2,3,4,5,6,7]\n",
        "y=[2,4.1,6.3,10.2,10.5,12.1,14.1]\n",
        "w = [model.intercept_,model.coef_]\n",
        "plt.plot(x,y,'ro')\n",
        "plt.xlabel('X')\n",
        "plt.ylabel('Y')\n",
        "x0 = np.linspace(start=1, stop=10, num=50)\n",
        "y0 = w[0]+w[1]*x0\n",
        "#print(y0)\n",
        "plt.plot(x0,y0)\n",
        "plt.show()"
      ],
      "metadata": {
        "colab": {
          "base_uri": "https://localhost:8080/",
          "height": 279
        },
        "id": "CmdOSXXQUvZr",
        "outputId": "7f19314b-96a3-4349-ff05-da05b312053b"
      },
      "execution_count": null,
      "outputs": [
        {
          "output_type": "display_data",
          "data": {
            "text/plain": [
              "<Figure size 432x288 with 1 Axes>"
            ],
            "image/png": "[encoded data removed]"
          },
          "metadata": {
            "needs_background": "light"
          }
        }
      ]
    }
  ]
}